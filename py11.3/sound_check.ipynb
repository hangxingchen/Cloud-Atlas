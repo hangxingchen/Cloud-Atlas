{
 "cells": [
  {
   "cell_type": "code",
   "execution_count": 1,
   "metadata": {},
   "outputs": [
    {
     "ename": "ModuleNotFoundError",
     "evalue": "No module named 'utils_asr'",
     "output_type": "error",
     "traceback": [
      "\u001b[1;31m---------------------------------------------------------------------------\u001b[0m",
      "\u001b[1;31mModuleNotFoundError\u001b[0m                       Traceback (most recent call last)",
      "Cell \u001b[1;32mIn[1], line 4\u001b[0m\n\u001b[0;32m      1\u001b[0m \u001b[38;5;66;03m# sound_check.py\u001b[39;00m\n\u001b[0;32m      2\u001b[0m \u001b[38;5;66;03m# 快速检查语音相关的所有功能：麦克风、录音、扬声器播放声音、语音识别、语音合成\u001b[39;00m\n\u001b[1;32m----> 4\u001b[0m \u001b[38;5;28;01mfrom\u001b[39;00m \u001b[38;5;21;01mutils_asr\u001b[39;00m \u001b[38;5;28;01mimport\u001b[39;00m \u001b[38;5;241m*\u001b[39m             \u001b[38;5;66;03m# 录音+语音识别\u001b[39;00m\n\u001b[0;32m      5\u001b[0m \u001b[38;5;28;01mfrom\u001b[39;00m \u001b[38;5;21;01mutils_tts\u001b[39;00m \u001b[38;5;28;01mimport\u001b[39;00m \u001b[38;5;241m*\u001b[39m             \u001b[38;5;66;03m# 语音合成模块\u001b[39;00m\n\u001b[0;32m      6\u001b[0m \u001b[38;5;28mprint\u001b[39m(\u001b[38;5;124m'\u001b[39m\u001b[38;5;124m开始录音5秒\u001b[39m\u001b[38;5;124m'\u001b[39m)\n",
      "\u001b[1;31mModuleNotFoundError\u001b[0m: No module named 'utils_asr'"
     ]
    }
   ],
   "source": [
    "# sound_check.py\n",
    "# 快速检查语音相关的所有功能：麦克风、录音、扬声器播放声音、语音识别、语音合成\n",
    "\n",
    "from utils_asr import *             # 录音+语音识别\n",
    "from utils_tts import *             # 语音合成模块\n",
    "print('开始录音5秒')\n",
    "record(DURATION=5)   # 录音\n",
    "print('播放录音')\n",
    "play_wav('temp/speech_record.wav')\n",
    "speech_result = speech_recognition()\n",
    "print('开始语音合成')\n",
    "tts(speech_result)\n",
    "print('播放语音合成音频')\n",
    "play_wav('temp/tts.wav')"
   ]
  }
 ],
 "metadata": {
  "kernelspec": {
   "display_name": "Python 3",
   "language": "python",
   "name": "python3"
  },
  "language_info": {
   "codemirror_mode": {
    "name": "ipython",
    "version": 3
   },
   "file_extension": ".py",
   "mimetype": "text/x-python",
   "name": "python",
   "nbconvert_exporter": "python",
   "pygments_lexer": "ipython3",
   "version": "3.12.5"
  }
 },
 "nbformat": 4,
 "nbformat_minor": 2
}
