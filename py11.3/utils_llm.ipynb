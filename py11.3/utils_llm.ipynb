{
 "cells": [
  {
   "cell_type": "code",
   "execution_count": null,
   "metadata": {},
   "outputs": [],
   "source": [
    "# utils_llm.py\n",
    "# 调用大语言模型API\n",
    "\n",
    "print('导入大模型API模块')\n",
    "\n",
    "import os\n",
    "import requests  # 如果没有 qianfan 模块，用 requests 代替\n",
    "\n",
    "def llm_qianfan(PROMPT='你好，你是谁？'):\n",
    "    '''\n",
    "    百度智能云千帆大模型平台API\n",
    "    '''\n",
    "    \n",
    "    # 设置密钥\n",
    "    QIANFAN_ACCESS_KEY = \"ALTAKJgV4Ds0wyYpjMkH4Hywt4\"  # 替换为实际密钥\n",
    "    QIANFAN_SECRET_KEY = \"a0111964e5ff4da2b9c5a0eee02cad14\"  # 替换为实际密钥\n",
    "    os.environ[\"QIANFAN_ACCESS_KEY\"] = QIANFAN_ACCESS_KEY\n",
    "    os.environ[\"QIANFAN_SECRET_KEY\"] = QIANFAN_SECRET_KEY\n",
    "    \n",
    "    # 使用 API 直接调用\n",
    "    url = \"https://api.baidu.com/qianfan/your_endpoint\"  # 替换为百度 API 地址\n",
    "    headers = {\n",
    "        \"Content-Type\": \"application/json\",\n",
    "        \"Authorization\": f\"Bearer {QIANFAN_ACCESS_KEY}\"\n",
    "    }\n",
    "    data = {\n",
    "        \"model\": \"ERNIE-Bot-4\",\n",
    "        \"prompt\": PROMPT,\n",
    "        \"top_p\": 0.8,\n",
    "        \"temperature\": 0.3,\n",
    "        \"penalty_score\": 1.0\n",
    "    }\n",
    "    response = requests.post(url, headers=headers, json=data)\n",
    "    return response.json().get(\"result\")\n",
    "\n",
    "# 零一万物大模型API调用\n",
    "import openai\n",
    "def llm_yi(PROMPT='你好，你是谁？'):\n",
    "    '''\n",
    "    零一万物大模型API\n",
    "    '''\n",
    "    \n",
    "    API_BASE = \"https://api.lingyiwanwu.com/v1\"\n",
    "    API_KEY = \"7d70191bd086408ca3f0f79b8866acde\"\n",
    "    MODEL = 'yi-large'\n",
    "\n",
    "    client = openai.OpenAI(api_key=API_KEY, base_url=API_BASE)\n",
    "    completion = client.ChatCompletion.create(model=MODEL, messages=[{\"role\": \"user\", \"content\": PROMPT}])\n",
    "    result = completion.choices[0].message.content.strip()\n",
    "    return result\n"
   ]
  }
 ],
 "metadata": {
  "kernelspec": {
   "display_name": "Python 3",
   "language": "python",
   "name": "python3"
  },
  "language_info": {
   "codemirror_mode": {
    "name": "ipython",
    "version": 3
   },
   "file_extension": ".py",
   "mimetype": "text/x-python",
   "name": "python",
   "nbconvert_exporter": "python",
   "pygments_lexer": "ipython3",
   "version": "3.12.5"
  }
 },
 "nbformat": 4,
 "nbformat_minor": 2
}
