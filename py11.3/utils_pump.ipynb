{
 "cells": [
  {
   "cell_type": "code",
   "execution_count": 1,
   "metadata": {},
   "outputs": [
    {
     "name": "stdout",
     "output_type": "stream",
     "text": [
      "导入机械抓控制模块\n"
     ]
    },
    {
     "ename": "ModuleNotFoundError",
     "evalue": "No module named 'smbus'",
     "output_type": "error",
     "traceback": [
      "\u001b[1;31m---------------------------------------------------------------------------\u001b[0m",
      "\u001b[1;31mModuleNotFoundError\u001b[0m                       Traceback (most recent call last)",
      "Cell \u001b[1;32mIn[1], line 7\u001b[0m\n\u001b[0;32m      5\u001b[0m \u001b[38;5;28;01mimport\u001b[39;00m \u001b[38;5;21;01mtime\u001b[39;00m\n\u001b[0;32m      6\u001b[0m \u001b[38;5;28;01mimport\u001b[39;00m \u001b[38;5;21;01mmath\u001b[39;00m\n\u001b[1;32m----> 7\u001b[0m \u001b[38;5;28;01mimport\u001b[39;00m \u001b[38;5;21;01msmbus\u001b[39;00m\n\u001b[0;32m      9\u001b[0m \u001b[38;5;28;01mclass\u001b[39;00m \u001b[38;5;21;01mPCA9685\u001b[39;00m:\n\u001b[0;32m     11\u001b[0m     \u001b[38;5;28;01mdef\u001b[39;00m \u001b[38;5;21m__init__\u001b[39m(\u001b[38;5;28mself\u001b[39m, address\u001b[38;5;241m=\u001b[39m\u001b[38;5;241m0x40\u001b[39m, debug\u001b[38;5;241m=\u001b[39m\u001b[38;5;28;01mFalse\u001b[39;00m):\n",
      "\u001b[1;31mModuleNotFoundError\u001b[0m: No module named 'smbus'"
     ]
    }
   ],
   "source": [
    "# utils_pump.py\n",
    "# hang\n",
    "# GPIO引脚、机械抓相关函数\n",
    "print('导入机械抓控制模块')\n",
    "import time\n",
    "import math\n",
    "import smbus\n",
    "\n",
    "class PCA9685:\n",
    "\n",
    "    def __init__(self, address=0x40, debug=False):\n",
    "        self.bus = smbus.SMBus(1)  # I2C总线1\n",
    "        self.address = address\n",
    "        self.debug = debug\n",
    "        self.write(0x00, 0x00)  # 初始化PCA9685\n",
    "  \n",
    "    def write(self, reg, value):\n",
    "        self.bus.write_byte_data(self.address, reg, value)\n",
    "    \n",
    "    def setPWMFreq(self, freq):\n",
    "        prescaleval = 25000000.0\n",
    "        prescaleval /= 4096.0\n",
    "        prescaleval /= float(freq)\n",
    "        prescaleval -= 1.0\n",
    "        prescale = math.floor(prescaleval + 0.5)\n",
    "\n",
    "        oldmode = self.bus.read_byte_data(self.address, 0x00)\n",
    "        newmode = (oldmode & 0x7F) | 0x10\n",
    "        self.write(0x00, newmode)\n",
    "        self.write(0xFE, int(prescale))\n",
    "        self.write(0x00, oldmode)\n",
    "        time.sleep(0.005)\n",
    "        self.write(0x00, oldmode | 0x80)\n",
    "\n",
    "    def setPWM(self, channel, on, off):\n",
    "        self.write(0x06 + 4 * channel, on & 0xFF)\n",
    "        self.write(0x07 + 4 * channel, on >> 8)\n",
    "        self.write(0x08 + 4 * channel, off & 0xFF)\n",
    "        self.write(0x09 + 4 * channel, off >> 8)\n",
    "    \n",
    "    def setServoPulse(self, channel, pulse):\n",
    "        pulse = pulse * 4096 / 20000  # 将脉冲转换为12位的值\n",
    "        self.setPWM(channel, 0, int(pulse))\n",
    "\n",
    "# 夹具控制相关函数\n",
    "def clamp_close(pwm):\n",
    "    '''\n",
    "    夹具夹住物体\n",
    "    '''\n",
    "    print('    夹具夹住物体')\n",
    "    pwm.setServoPulse(5, 2100)  # 设置PWM为2100，夹住物体\n",
    "    time.sleep(1)  # 等待动作完成\n",
    "\n",
    "def clamp_open(pwm):\n",
    "    '''\n",
    "    夹具松开物体\n",
    "    '''\n",
    "    print('夹具松开物体')\n",
    "    pwm.setServoPulse(5, 1500)  # 设置PWM为1500，松开物体\n",
    "    time.sleep(1)  # 等待动作完成\n",
    "\n",
    "# 机械臂舵机6控制\n",
    "if __name__ == '__main__':\n",
    "    pwm = PCA9685(0x40, debug=False)\n",
    "    pwm.setPWMFreq(50)  # 设置PWM频率为50Hz\n",
    "\n",
    "    try:\n",
    "        while True:\n",
    "            command = input(\"输入 'c' 夹紧, 'o' 松开, 'q' 退出: \")\n",
    "            if command == 'c':\n",
    "                clamp_close(pwm)\n",
    "            elif command == 'o':\n",
    "                clamp_open(pwm)\n",
    "            elif command == 'q':\n",
    "                print(\"程序结束\")\n",
    "                break\n",
    "            else:\n",
    "                print(\"无效输入\")\n",
    "    except KeyboardInterrupt:\n",
    "        print(\"程序中断，舵机停止\")\n"
   ]
  }
 ],
 "metadata": {
  "kernelspec": {
   "display_name": "Python 3",
   "language": "python",
   "name": "python3"
  },
  "language_info": {
   "codemirror_mode": {
    "name": "ipython",
    "version": 3
   },
   "file_extension": ".py",
   "mimetype": "text/x-python",
   "name": "python",
   "nbconvert_exporter": "python",
   "pygments_lexer": "ipython3",
   "version": "3.12.5"
  }
 },
 "nbformat": 4,
 "nbformat_minor": 2
}
